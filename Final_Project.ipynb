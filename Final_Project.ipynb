{
  "cells": [
    {
      "cell_type": "markdown",
      "metadata": {
        "id": "m7d9NZo_4h8m"
      },
      "source": [
        "#Latar Belakang\n",
        "Studi kasus mengklasifikasi gambar tas berdasarkan kepemilikan gender menggunakan CNN.\n",
        "\n",
        "Dataset yang saya gunakan adalah data dataset buatan sendiri yang saya simpan dalam bentuk zip file di repository github saya: \n",
        "\n",
        "https://github.com/Clonehape/FinalProject_H8.git\n",
        "\n"
      ]
    },
    {
      "cell_type": "markdown",
      "metadata": {
        "id": "sDcDgZA7XlMn"
      },
      "source": [
        "##import Library"
      ]
    },
    {
      "cell_type": "code",
      "execution_count": 1,
      "metadata": {
        "id": "lQXSYjvhvElg"
      },
      "outputs": [],
      "source": [
        "import os\n",
        "import numpy as np\n",
        "import pandas as pd\n",
        "import matplotlib.pyplot as plt\n",
        "import random\n",
        "import tensorflow as tf\n",
        "\n",
        "from tensorflow import keras\n",
        "from tensorflow.keras import layers\n",
        "from tensorflow.keras.optimizers import Adam\n",
        "from tensorflow.keras.models import Sequential\n",
        "from tensorflow.keras.preprocessing.image import ImageDataGenerator, img_to_array, load_img, array_to_img\n",
        "from google.colab import files\n",
        "from keras.preprocessing import image\n",
        "from shutil import copyfile\n",
        "\n",
        "#import PIL # untuk print  image\n",
        "import pathlib #untuk save image di path"
      ]
    },
    {
      "cell_type": "markdown",
      "metadata": {
        "id": "uR9ixxiB-XQS"
      },
      "source": [
        "##Menyiapkan direktori"
      ]
    },
    {
      "cell_type": "code",
      "source": [
        "#unduh dataset dari github\n",
        "!git clone https://github.com/Clonehape/FinalProject_H8.git"
      ],
      "metadata": {
        "colab": {
          "base_uri": "https://localhost:8080/"
        },
        "id": "nJdaI89YRS_q",
        "outputId": "3569a70f-bd8c-4303-d7bd-3e4d1c47e0ce"
      },
      "execution_count": 2,
      "outputs": [
        {
          "output_type": "stream",
          "name": "stdout",
          "text": [
            "Cloning into 'FinalProject_H8'...\n",
            "remote: Enumerating objects: 3, done.\u001b[K\n",
            "remote: Counting objects: 100% (3/3), done.\u001b[K\n",
            "remote: Compressing objects: 100% (2/2), done.\u001b[K\n",
            "remote: Total 3 (delta 0), reused 3 (delta 0), pack-reused 0\u001b[K\n",
            "Unpacking objects: 100% (3/3), done.\n"
          ]
        }
      ]
    },
    {
      "cell_type": "code",
      "execution_count": 3,
      "metadata": {
        "colab": {
          "base_uri": "https://localhost:8080/"
        },
        "id": "zeClspZJDBCE",
        "outputId": "eee0e3c7-92e9-4a8c-b782-1358f92a0898"
      },
      "outputs": [
        {
          "output_type": "stream",
          "name": "stdout",
          "text": [
            "Archive:  /content/FinalProject_H8/tas.zip\n",
            "   creating: tas/\n",
            "   creating: tas/Raw/\n",
            "   creating: tas/Raw/tas_pria/\n",
            "  inflating: tas/Raw/tas_pria/TP_ (1).jpg  \n",
            "  inflating: tas/Raw/tas_pria/TP_ (10).jpg  \n",
            "  inflating: tas/Raw/tas_pria/TP_ (11).jpg  \n",
            "  inflating: tas/Raw/tas_pria/TP_ (12).jpg  \n",
            "  inflating: tas/Raw/tas_pria/TP_ (13).jpg  \n",
            "  inflating: tas/Raw/tas_pria/TP_ (14).jpg  \n",
            "  inflating: tas/Raw/tas_pria/TP_ (15).jpg  \n",
            "  inflating: tas/Raw/tas_pria/TP_ (16).jpg  \n",
            "  inflating: tas/Raw/tas_pria/TP_ (17).jpg  \n",
            "  inflating: tas/Raw/tas_pria/TP_ (18).jpg  \n",
            "  inflating: tas/Raw/tas_pria/TP_ (19).jpg  \n",
            "  inflating: tas/Raw/tas_pria/TP_ (2).jpg  \n",
            "  inflating: tas/Raw/tas_pria/TP_ (20).jpg  \n",
            "  inflating: tas/Raw/tas_pria/TP_ (21).jpg  \n",
            "  inflating: tas/Raw/tas_pria/TP_ (22).jpg  \n",
            "  inflating: tas/Raw/tas_pria/TP_ (23).jpg  \n",
            "  inflating: tas/Raw/tas_pria/TP_ (24).jpg  \n",
            "  inflating: tas/Raw/tas_pria/TP_ (25).jpg  \n",
            "  inflating: tas/Raw/tas_pria/TP_ (26).jpg  \n",
            "  inflating: tas/Raw/tas_pria/TP_ (27).jpg  \n",
            "  inflating: tas/Raw/tas_pria/TP_ (28).jpg  \n",
            "  inflating: tas/Raw/tas_pria/TP_ (29).jpg  \n",
            "  inflating: tas/Raw/tas_pria/TP_ (3).jpg  \n",
            "  inflating: tas/Raw/tas_pria/TP_ (30).jpg  \n",
            "  inflating: tas/Raw/tas_pria/TP_ (31).jpg  \n",
            "  inflating: tas/Raw/tas_pria/TP_ (32).jpg  \n",
            "  inflating: tas/Raw/tas_pria/TP_ (33).jpg  \n",
            "  inflating: tas/Raw/tas_pria/TP_ (34).jpg  \n",
            "  inflating: tas/Raw/tas_pria/TP_ (35).jpg  \n",
            "  inflating: tas/Raw/tas_pria/TP_ (36).jpg  \n",
            "  inflating: tas/Raw/tas_pria/TP_ (37).jpg  \n",
            "  inflating: tas/Raw/tas_pria/TP_ (38).jpg  \n",
            "  inflating: tas/Raw/tas_pria/TP_ (39).jpg  \n",
            "  inflating: tas/Raw/tas_pria/TP_ (4).jpg  \n",
            "  inflating: tas/Raw/tas_pria/TP_ (40).jpg  \n",
            "  inflating: tas/Raw/tas_pria/TP_ (41).jpg  \n",
            "  inflating: tas/Raw/tas_pria/TP_ (42).jpg  \n",
            "  inflating: tas/Raw/tas_pria/TP_ (43).jpg  \n",
            "  inflating: tas/Raw/tas_pria/TP_ (44).jpg  \n",
            "  inflating: tas/Raw/tas_pria/TP_ (45).jpg  \n",
            "  inflating: tas/Raw/tas_pria/TP_ (46).jpg  \n",
            "  inflating: tas/Raw/tas_pria/TP_ (47).jpg  \n",
            "  inflating: tas/Raw/tas_pria/TP_ (48).jpg  \n",
            "  inflating: tas/Raw/tas_pria/TP_ (49).jpg  \n",
            "  inflating: tas/Raw/tas_pria/TP_ (5).jpg  \n",
            "  inflating: tas/Raw/tas_pria/TP_ (50).jpg  \n",
            "  inflating: tas/Raw/tas_pria/TP_ (51).jpg  \n",
            "  inflating: tas/Raw/tas_pria/TP_ (52).jpg  \n",
            "  inflating: tas/Raw/tas_pria/TP_ (53).jpg  \n",
            "  inflating: tas/Raw/tas_pria/TP_ (54).jpg  \n",
            " extracting: tas/Raw/tas_pria/TP_ (55).jpg  \n",
            "  inflating: tas/Raw/tas_pria/TP_ (56).jpg  \n",
            "  inflating: tas/Raw/tas_pria/TP_ (57).jpg  \n",
            "  inflating: tas/Raw/tas_pria/TP_ (58).jpg  \n",
            "  inflating: tas/Raw/tas_pria/TP_ (59).jpg  \n",
            "  inflating: tas/Raw/tas_pria/TP_ (6).jpg  \n",
            "  inflating: tas/Raw/tas_pria/TP_ (60).jpg  \n",
            "  inflating: tas/Raw/tas_pria/TP_ (7).jpg  \n",
            "  inflating: tas/Raw/tas_pria/TP_ (8).jpg  \n",
            "  inflating: tas/Raw/tas_pria/TP_ (9).jpg  \n",
            "   creating: tas/Raw/tas_wanita/\n",
            "  inflating: tas/Raw/tas_wanita/TW_ (1).jpg  \n",
            "  inflating: tas/Raw/tas_wanita/TW_ (10).jpg  \n",
            "  inflating: tas/Raw/tas_wanita/TW_ (11).jpg  \n",
            "  inflating: tas/Raw/tas_wanita/TW_ (12).jpg  \n",
            "  inflating: tas/Raw/tas_wanita/TW_ (13).jpg  \n",
            "  inflating: tas/Raw/tas_wanita/TW_ (14).jpg  \n",
            "  inflating: tas/Raw/tas_wanita/TW_ (15).jpg  \n",
            "  inflating: tas/Raw/tas_wanita/TW_ (16).jpg  \n",
            "  inflating: tas/Raw/tas_wanita/TW_ (17).jpg  \n",
            "  inflating: tas/Raw/tas_wanita/TW_ (18).jpg  \n",
            "  inflating: tas/Raw/tas_wanita/TW_ (19).jpg  \n",
            "  inflating: tas/Raw/tas_wanita/TW_ (2).jpg  \n",
            "  inflating: tas/Raw/tas_wanita/TW_ (20).jpg  \n",
            "  inflating: tas/Raw/tas_wanita/TW_ (21).jpg  \n",
            "  inflating: tas/Raw/tas_wanita/TW_ (22).jpg  \n",
            "  inflating: tas/Raw/tas_wanita/TW_ (23).jpg  \n",
            "  inflating: tas/Raw/tas_wanita/TW_ (24).jpg  \n",
            "  inflating: tas/Raw/tas_wanita/TW_ (25).jpg  \n",
            "  inflating: tas/Raw/tas_wanita/TW_ (26).jpg  \n",
            "  inflating: tas/Raw/tas_wanita/TW_ (27).jpg  \n",
            "  inflating: tas/Raw/tas_wanita/TW_ (28).jpg  \n",
            "  inflating: tas/Raw/tas_wanita/TW_ (29).jpg  \n",
            "  inflating: tas/Raw/tas_wanita/TW_ (3).jpg  \n",
            "  inflating: tas/Raw/tas_wanita/TW_ (30).jpg  \n",
            "  inflating: tas/Raw/tas_wanita/TW_ (31).jpg  \n",
            "  inflating: tas/Raw/tas_wanita/TW_ (32).jpg  \n",
            "  inflating: tas/Raw/tas_wanita/TW_ (33).jpg  \n",
            "  inflating: tas/Raw/tas_wanita/TW_ (34).jpg  \n",
            "  inflating: tas/Raw/tas_wanita/TW_ (35).jpg  \n",
            "  inflating: tas/Raw/tas_wanita/TW_ (36).jpg  \n",
            "  inflating: tas/Raw/tas_wanita/TW_ (37).jpg  \n",
            "  inflating: tas/Raw/tas_wanita/TW_ (38).jpg  \n",
            "  inflating: tas/Raw/tas_wanita/TW_ (39).jpg  \n",
            "  inflating: tas/Raw/tas_wanita/TW_ (4).jpg  \n",
            "  inflating: tas/Raw/tas_wanita/TW_ (40).jpg  \n",
            "  inflating: tas/Raw/tas_wanita/TW_ (41).jpg  \n",
            "  inflating: tas/Raw/tas_wanita/TW_ (42).jpg  \n",
            "  inflating: tas/Raw/tas_wanita/TW_ (43).jpg  \n",
            "  inflating: tas/Raw/tas_wanita/TW_ (44).jpg  \n",
            "  inflating: tas/Raw/tas_wanita/TW_ (45).jpg  \n",
            "  inflating: tas/Raw/tas_wanita/TW_ (46).jpg  \n",
            "  inflating: tas/Raw/tas_wanita/TW_ (47).jpg  \n",
            "  inflating: tas/Raw/tas_wanita/TW_ (48).jpg  \n",
            "  inflating: tas/Raw/tas_wanita/TW_ (49).jpg  \n",
            "  inflating: tas/Raw/tas_wanita/TW_ (5).jpg  \n",
            "  inflating: tas/Raw/tas_wanita/TW_ (50).jpg  \n",
            "  inflating: tas/Raw/tas_wanita/TW_ (51).jpg  \n",
            "  inflating: tas/Raw/tas_wanita/TW_ (52).jpg  \n",
            "  inflating: tas/Raw/tas_wanita/TW_ (53).jpg  \n",
            "  inflating: tas/Raw/tas_wanita/TW_ (54).jpg  \n",
            "  inflating: tas/Raw/tas_wanita/TW_ (55).jpg  \n",
            "  inflating: tas/Raw/tas_wanita/TW_ (56).jpg  \n",
            "  inflating: tas/Raw/tas_wanita/TW_ (57).jpg  \n",
            "  inflating: tas/Raw/tas_wanita/TW_ (58).jpg  \n",
            "  inflating: tas/Raw/tas_wanita/TW_ (59).jpg  \n",
            "  inflating: tas/Raw/tas_wanita/TW_ (6).jpg  \n",
            " extracting: tas/Raw/tas_wanita/TW_ (60).jpg  \n",
            "  inflating: tas/Raw/tas_wanita/TW_ (7).jpg  \n",
            "  inflating: tas/Raw/tas_wanita/TW_ (8).jpg  \n",
            "  inflating: tas/Raw/tas_wanita/TW_ (9).jpg  \n",
            "   creating: tas/Train/\n",
            "   creating: tas/Train/tas_pria/\n",
            "   creating: tas/Train/tas_wanita/\n",
            "   creating: tas/Validation/\n",
            "   creating: tas/Validation/tas_pria/\n",
            "   creating: tas/Validation/tas_wanita/\n"
          ]
        }
      ],
      "source": [
        "!unzip '/content/FinalProject_H8/tas.zip' #unzip dataset"
      ]
    },
    {
      "cell_type": "code",
      "source": [
        "base_dir = '/content/tas' #\n",
        "!ls '/content/tas' #cek isi folder dataset"
      ],
      "metadata": {
        "colab": {
          "base_uri": "https://localhost:8080/"
        },
        "id": "ZHDlC-AXg0dc",
        "outputId": "55eccbd1-f7c8-4c31-ebe7-82401582178b"
      },
      "execution_count": 4,
      "outputs": [
        {
          "output_type": "stream",
          "name": "stdout",
          "text": [
            "Raw  Train  Validation\n"
          ]
        }
      ]
    },
    {
      "cell_type": "code",
      "execution_count": 5,
      "metadata": {
        "colab": {
          "base_uri": "https://localhost:8080/"
        },
        "id": "FQXg1NBpDiCh",
        "outputId": "252f39d1-521f-4772-cdcc-897503daef38"
      },
      "outputs": [
        {
          "output_type": "stream",
          "name": "stdout",
          "text": [
            "Raw  Train  Validation\n"
          ]
        }
      ],
      "source": [
        "base_dir = '/content/tas' #\n",
        "!ls '/content/tas' #cek isi folder dataset"
      ]
    },
    {
      "cell_type": "code",
      "execution_count": 6,
      "metadata": {
        "id": "FFErHBaZFujJ"
      },
      "outputs": [],
      "source": [
        "# menentukan direktori\n",
        "raw_dir=os.path.join(base_dir,'Raw')\n",
        "train_dir=os.path.join(base_dir,'Train')\n",
        "val_dir=os.path.join(base_dir,'Validation')"
      ]
    },
    {
      "cell_type": "code",
      "execution_count": 7,
      "metadata": {
        "id": "134CGar8U8r6"
      },
      "outputs": [],
      "source": [
        "#menentukan direktori isi raw\n",
        "taspria_dir=os.path.join(raw_dir,'tas_pria/')\n",
        "taswanita_dir=os.path.join(raw_dir,'tas_wanita/')"
      ]
    },
    {
      "cell_type": "code",
      "execution_count": 8,
      "metadata": {
        "id": "pGefbdLLHc4R"
      },
      "outputs": [],
      "source": [
        "#menentukan direktori isi train\n",
        "train_taspria=os.path.join(train_dir,'tas_pria/')\n",
        "train_taswanita=os.path.join(train_dir,'tas_wanita/')\n",
        "\n",
        "#menentukan direktori isi validasi\n",
        "val_taspria=os.path.join(val_dir,'tas_pria/')\n",
        "val_taswanita=os.path.join(val_dir,'tas_wanita/')"
      ]
    },
    {
      "cell_type": "markdown",
      "metadata": {
        "id": "5Bcquia8JBfm"
      },
      "source": [
        "###menghitung jumlah gambar di dataset"
      ]
    },
    {
      "cell_type": "code",
      "execution_count": 9,
      "metadata": {
        "colab": {
          "base_uri": "https://localhost:8080/"
        },
        "id": "qukSEGvwIlZn",
        "outputId": "534e6f93-88b8-4de2-ff68-bdab14209313"
      },
      "outputs": [
        {
          "output_type": "stream",
          "name": "stdout",
          "text": [
            "120\n"
          ]
        }
      ],
      "source": [
        "data_dir = pathlib.Path(raw_dir)\n",
        "image_count = len(list(data_dir.glob('*/*.jpg'))) #mengambil data image dengan ektensi jpg dengan menghitung panjang list\n",
        "print (image_count)"
      ]
    },
    {
      "cell_type": "code",
      "execution_count": 10,
      "metadata": {
        "colab": {
          "base_uri": "https://localhost:8080/"
        },
        "id": "88g8XJR4UmlX",
        "outputId": "7178bc78-14a8-4fd1-b130-80cd43906c24"
      },
      "outputs": [
        {
          "output_type": "stream",
          "name": "stdout",
          "text": [
            "jumlah gambar tas pria: 60\n",
            "jumlah gambar tas wanita: 60\n"
          ]
        }
      ],
      "source": [
        "print ('jumlah gambar tas pria:', len(os.listdir(taspria_dir)))\n",
        "print ('jumlah gambar tas wanita:', len(os.listdir(taswanita_dir)))"
      ]
    },
    {
      "cell_type": "markdown",
      "source": [
        "##Splitting dataset"
      ],
      "metadata": {
        "id": "vDltCwMGdB7Z"
      }
    },
    {
      "cell_type": "code",
      "source": [
        "split_ratio=0.9 #ratio pembagian dataset saya buat 90% untuk data training & 10% untuk validasi"
      ],
      "metadata": {
        "id": "-27p43Q9FXTF"
      },
      "execution_count": 11,
      "outputs": []
    },
    {
      "cell_type": "code",
      "execution_count": 12,
      "metadata": {
        "id": "gRVAkCznL9zB"
      },
      "outputs": [],
      "source": [
        "def train_val_split(source, train, val, split_ratio):\n",
        "  total_size=len(os.listdir(source))\n",
        "  train_size=int(total_size*split_ratio)\n",
        "  val_size=total_size-train_size\n",
        "\n",
        "  random_split=random.sample(os.listdir(source),total_size) # memilih data secara random untuk displit\n",
        "  train_files=random_split[0:train_size]\n",
        "  val_files=random_split[train_size:total_size]\n",
        "\n",
        "  for i in train_files: #membuat train files dengan ration 90%\n",
        "    i_file=source+i\n",
        "    destination = train + i\n",
        "    copyfile(i_file, destination)\n",
        "\n",
        "  for i in val_files: #membuat validation file\n",
        "    i_file=source+i\n",
        "    destination = val + i\n",
        "    copyfile(i_file, destination)  \n"
      ]
    },
    {
      "cell_type": "code",
      "execution_count": 13,
      "metadata": {
        "id": "cA61-Pj8OY4j"
      },
      "outputs": [],
      "source": [
        "#pembagian file gambar untuk training & validasi\n",
        "\n",
        "#Training\n",
        "source_00=taspria_dir\n",
        "train_00=train_taspria\n",
        "val_00=val_taspria\n",
        "train_val_split(source_00, train_00, val_00, split_ratio)\n",
        "\n",
        "\n",
        "#validasi\n",
        "source_01=taswanita_dir\n",
        "train_01=train_taswanita\n",
        "val_01=val_taswanita\n",
        "train_val_split(source_01, train_01, val_01, split_ratio)"
      ]
    },
    {
      "cell_type": "code",
      "execution_count": 14,
      "metadata": {
        "colab": {
          "base_uri": "https://localhost:8080/"
        },
        "id": "TZAOhEKCV6SY",
        "outputId": "6939d34a-c619-4815-b860-ce1029e6e647"
      },
      "outputs": [
        {
          "output_type": "stream",
          "name": "stdout",
          "text": [
            "jumlah gambar train : 108\n",
            "jumlah gambar validasi : 12\n"
          ]
        }
      ],
      "source": [
        "#cek jumlah image pada folder training & validasi\n",
        "image_train = len(list(pathlib.Path(train_dir).glob('*/*.jpg'))) #mengambil data image dengan ektensi jpg dengan menghitung panjang list\n",
        "image_val = len(list(pathlib.Path(val_dir).glob('*/*.jpg')))\n",
        "\n",
        "print ('jumlah gambar train : {}'.format(image_train))\n",
        "print ('jumlah gambar validasi : {}'.format(image_val))"
      ]
    },
    {
      "cell_type": "code",
      "execution_count": 15,
      "metadata": {
        "id": "lyRdDD1wKVMN"
      },
      "outputs": [],
      "source": [
        "#ukuran imagenya \n",
        "IMG_WIDTH =180\n",
        "IMG_HEIGHT=180\n",
        "batch_size=10"
      ]
    },
    {
      "cell_type": "code",
      "execution_count": 16,
      "metadata": {
        "colab": {
          "base_uri": "https://localhost:8080/"
        },
        "id": "BKROe0TNKZHq",
        "outputId": "b6c3d7a7-11cc-4ef8-b728-aebacad31d98"
      },
      "outputs": [
        {
          "output_type": "stream",
          "name": "stdout",
          "text": [
            "Found 108 files belonging to 2 classes.\n"
          ]
        }
      ],
      "source": [
        "#data training\n",
        "train_dataset=tf.keras.preprocessing.image_dataset_from_directory(\n",
        "    train_dir,\n",
        "    shuffle=True,\n",
        "    batch_size=batch_size,\n",
        "    image_size=(IMG_HEIGHT, IMG_WIDTH)\n",
        ")"
      ]
    },
    {
      "cell_type": "code",
      "execution_count": 17,
      "metadata": {
        "colab": {
          "base_uri": "https://localhost:8080/"
        },
        "id": "FTCMV7VdYGS3",
        "outputId": "2fea6b4e-89f3-4d36-d707-b17d3e88f618"
      },
      "outputs": [
        {
          "output_type": "stream",
          "name": "stdout",
          "text": [
            "Found 12 files belonging to 2 classes.\n"
          ]
        }
      ],
      "source": [
        "#data validasi\n",
        "val_dataset=tf.keras.preprocessing.image_dataset_from_directory(\n",
        "    val_dir,\n",
        "    shuffle=True,\n",
        "    batch_size=batch_size,\n",
        "    image_size=(IMG_HEIGHT, IMG_WIDTH)\n",
        ")"
      ]
    },
    {
      "cell_type": "code",
      "execution_count": 18,
      "metadata": {
        "colab": {
          "base_uri": "https://localhost:8080/"
        },
        "id": "F4SIwxE-XyiA",
        "outputId": "74cb6fc1-e7cb-4102-a6c2-ec3012c624c5"
      },
      "outputs": [
        {
          "output_type": "stream",
          "name": "stdout",
          "text": [
            "(10, 180, 180, 3)\n"
          ]
        }
      ],
      "source": [
        "for image_batch, labels_batch in train_dataset:\n",
        "  print(image_batch.shape)\n",
        "  break"
      ]
    },
    {
      "cell_type": "code",
      "source": [
        "#assigned class name\n",
        "class_names= train_dataset.class_names\n",
        "print(class_names)"
      ],
      "metadata": {
        "colab": {
          "base_uri": "https://localhost:8080/"
        },
        "id": "0P9AdCreOyJE",
        "outputId": "458b9ac6-3178-4105-fed1-efa3890e8f50"
      },
      "execution_count": 19,
      "outputs": [
        {
          "output_type": "stream",
          "name": "stdout",
          "text": [
            "['tas_pria', 'tas_wanita']\n"
          ]
        }
      ]
    },
    {
      "cell_type": "markdown",
      "metadata": {
        "id": "bj-bOughYv6O"
      },
      "source": [
        "##Preprocessing & Reshaping"
      ]
    },
    {
      "cell_type": "code",
      "execution_count": 20,
      "metadata": {
        "id": "U_nLN-mwX6gw"
      },
      "outputs": [],
      "source": [
        "# mempercepat load image\n",
        "AUTOTUNE=tf.data.AUTOTUNE\n",
        "\n",
        "train_ds = train_dataset.cache().shuffle(1000).prefetch(buffer_size=AUTOTUNE)\n",
        "val_ds= val_dataset.cache().prefetch(buffer_size=AUTOTUNE)"
      ]
    },
    {
      "cell_type": "code",
      "execution_count": 21,
      "metadata": {
        "id": "BHX_Xam_ZMm5"
      },
      "outputs": [],
      "source": [
        "\n",
        "normalization_layer=layers.experimental.preprocessing.Rescaling(1./255)"
      ]
    },
    {
      "cell_type": "code",
      "execution_count": 22,
      "metadata": {
        "colab": {
          "base_uri": "https://localhost:8080/"
        },
        "id": "nhcstcIEZO24",
        "outputId": "3df53975-cf64-4307-e43b-d883afa2dc56"
      },
      "outputs": [
        {
          "output_type": "stream",
          "name": "stdout",
          "text": [
            "0.0 1.0\n"
          ]
        }
      ],
      "source": [
        "normalized_dataset=train_dataset.map(lambda x, y: (normalization_layer(x),y))\n",
        "image_batch, labels_batch = next(iter(normalized_dataset))\n",
        "first_image=image_batch[0]\n",
        "\n",
        "print (np.min(first_image),np.max(first_image))"
      ]
    },
    {
      "cell_type": "code",
      "execution_count": 23,
      "metadata": {
        "id": "_Ao0IKtjgvJT"
      },
      "outputs": [],
      "source": [
        "#augmentasi image untuk melatih sistem agar bisa mengenali berbagai jenis kondisi dataset.\n",
        "train_datagen=ImageDataGenerator(\n",
        "    rescale=1./255,\n",
        "    rotation_range=30,\n",
        "    horizontal_flip=True,\n",
        "    shear_range=0.3,\n",
        "    fill_mode='nearest',\n",
        "    width_shift_range= 0.2,\n",
        "    height_shift_range= 0.2,\n",
        "    zoom_range=0.1\n",
        ")\n",
        "\n",
        "val_datagen=ImageDataGenerator(\n",
        "    rescale=1./255,\n",
        "    rotation_range=30,\n",
        "    horizontal_flip=True,\n",
        "    shear_range=0.3,\n",
        "    fill_mode='nearest',\n",
        "    width_shift_range= 0.2,\n",
        "    height_shift_range= 0.2,\n",
        "    zoom_range=0.1\n",
        ")"
      ]
    },
    {
      "cell_type": "markdown",
      "metadata": {
        "id": "C0vDB8ZkhxKU"
      },
      "source": [
        "###Target"
      ]
    },
    {
      "cell_type": "code",
      "execution_count": 24,
      "metadata": {
        "colab": {
          "base_uri": "https://localhost:8080/"
        },
        "id": "jRoi_x1Fh3cX",
        "outputId": "90b6a6e7-37ed-4930-9b0c-4ff8e9ff6393"
      },
      "outputs": [
        {
          "output_type": "stream",
          "name": "stdout",
          "text": [
            "Found 108 images belonging to 2 classes.\n",
            "Found 12 images belonging to 2 classes.\n"
          ]
        }
      ],
      "source": [
        "train_generator= train_datagen.flow_from_directory(\n",
        "    train_dir,\n",
        "    target_size=(IMG_WIDTH,IMG_HEIGHT),\n",
        "    batch_size=batch_size,\n",
        "    class_mode='categorical'\n",
        ")\n",
        "\n",
        "val_generator= val_datagen.flow_from_directory(\n",
        "    val_dir,\n",
        "    target_size=(IMG_WIDTH,IMG_HEIGHT),\n",
        "    batch_size=batch_size,\n",
        "    class_mode='categorical'\n",
        ")"
      ]
    },
    {
      "cell_type": "code",
      "execution_count": 25,
      "metadata": {
        "id": "im7nkyaWZwn5"
      },
      "outputs": [],
      "source": [
        "#menggunakan callback untuk membatasi iterasi epochs apabila nilai akurasi sudah mencapai batas yang diinginkan. disini saya setting supaya iterasi berhenti ketika akurasi mencapai >95%\n",
        "class myCallback(tf.keras.callbacks.Callback):\n",
        "  def on_epoch_end(self, epoch, logs={}):\n",
        "    if(logs.get('accuracy')>0.95):\n",
        "      print('\\nAkurasi mencapai >95%')\n",
        "      self.model.stop_training=True\n",
        "\n",
        "callbacks=myCallback()      "
      ]
    },
    {
      "cell_type": "markdown",
      "metadata": {
        "id": "MB7-3gpqjRDq"
      },
      "source": [
        "##Model CNN"
      ]
    },
    {
      "cell_type": "code",
      "execution_count": 26,
      "metadata": {
        "id": "w3CZ1XCJZWws"
      },
      "outputs": [],
      "source": [
        "#membuat model CNN dengan 3 layers convolutional dan aktivasi relu\n",
        "num_classes =2\n",
        "\n",
        "model = Sequential([\n",
        "                    layers.InputLayer(input_shape=(IMG_HEIGHT,IMG_WIDTH,3)),\n",
        "                    layers.Conv2D(16,3,padding='same', activation='relu'),\n",
        "                    layers.MaxPooling2D(),\n",
        "                    layers.Conv2D(32,3,padding='same', activation='relu'),\n",
        "                    layers.MaxPooling2D(),\n",
        "                    layers.Conv2D(64,3,padding='same', activation='relu'),\n",
        "                    layers.MaxPooling2D(),\n",
        "                    layers.Flatten(),\n",
        "                    layers.Dense(128, activation='relu'), #hidden layer\n",
        "                    layers.Dropout(0.3,seed=112),\n",
        "                    layers.Dense(256, activation='relu'), #hidden layer\n",
        "                    layers.Dropout(0.5,seed=112),\n",
        "                    layers.Dense(num_classes,activation='sigmoid')#layer output\n",
        "])"
      ]
    },
    {
      "cell_type": "code",
      "execution_count": 27,
      "metadata": {
        "id": "AYaIwHqyZe0E"
      },
      "outputs": [],
      "source": [
        "model.compile(optimizer='adam',\n",
        "              loss='categorical_crossentropy',\n",
        "              metrics=['accuracy'])"
      ]
    },
    {
      "cell_type": "code",
      "execution_count": 28,
      "metadata": {
        "colab": {
          "base_uri": "https://localhost:8080/"
        },
        "id": "Lgwu_tKgZfux",
        "outputId": "054871f5-ac21-4157-fc6f-460e000f63d1"
      },
      "outputs": [
        {
          "output_type": "stream",
          "name": "stdout",
          "text": [
            "Model: \"sequential\"\n",
            "_________________________________________________________________\n",
            " Layer (type)                Output Shape              Param #   \n",
            "=================================================================\n",
            " conv2d (Conv2D)             (None, 180, 180, 16)      448       \n",
            "                                                                 \n",
            " max_pooling2d (MaxPooling2D  (None, 90, 90, 16)       0         \n",
            " )                                                               \n",
            "                                                                 \n",
            " conv2d_1 (Conv2D)           (None, 90, 90, 32)        4640      \n",
            "                                                                 \n",
            " max_pooling2d_1 (MaxPooling  (None, 45, 45, 32)       0         \n",
            " 2D)                                                             \n",
            "                                                                 \n",
            " conv2d_2 (Conv2D)           (None, 45, 45, 64)        18496     \n",
            "                                                                 \n",
            " max_pooling2d_2 (MaxPooling  (None, 22, 22, 64)       0         \n",
            " 2D)                                                             \n",
            "                                                                 \n",
            " flatten (Flatten)           (None, 30976)             0         \n",
            "                                                                 \n",
            " dense (Dense)               (None, 128)               3965056   \n",
            "                                                                 \n",
            " dropout (Dropout)           (None, 128)               0         \n",
            "                                                                 \n",
            " dense_1 (Dense)             (None, 256)               33024     \n",
            "                                                                 \n",
            " dropout_1 (Dropout)         (None, 256)               0         \n",
            "                                                                 \n",
            " dense_2 (Dense)             (None, 2)                 514       \n",
            "                                                                 \n",
            "=================================================================\n",
            "Total params: 4,022,178\n",
            "Trainable params: 4,022,178\n",
            "Non-trainable params: 0\n",
            "_________________________________________________________________\n"
          ]
        }
      ],
      "source": [
        "model.summary()"
      ]
    },
    {
      "cell_type": "code",
      "source": [
        "epochs=40\n",
        "history = model.fit(\n",
        "    train_generator,\n",
        "    steps_per_epoch = 6,\n",
        "    validation_data=val_generator,\n",
        "    validation_steps=1,\n",
        "    verbose=1,\n",
        "    epochs=epochs,\n",
        "    callbacks=[callbacks]\n",
        ")"
      ],
      "metadata": {
        "colab": {
          "base_uri": "https://localhost:8080/"
        },
        "id": "W1Y6iVnWXc4W",
        "outputId": "9d799e34-d1ff-4610-86b6-3d9da81a2e14"
      },
      "execution_count": 29,
      "outputs": [
        {
          "output_type": "stream",
          "name": "stdout",
          "text": [
            "Epoch 1/40\n",
            "6/6 [==============================] - 4s 470ms/step - loss: 1.0245 - accuracy: 0.4828 - val_loss: 0.6851 - val_accuracy: 0.7000\n",
            "Epoch 2/40\n",
            "6/6 [==============================] - 2s 398ms/step - loss: 0.6929 - accuracy: 0.4828 - val_loss: 0.6921 - val_accuracy: 0.5000\n",
            "Epoch 3/40\n",
            "6/6 [==============================] - 2s 410ms/step - loss: 0.7025 - accuracy: 0.5333 - val_loss: 0.7018 - val_accuracy: 0.4000\n",
            "Epoch 4/40\n",
            "6/6 [==============================] - 3s 409ms/step - loss: 0.6886 - accuracy: 0.5833 - val_loss: 0.6855 - val_accuracy: 0.8000\n",
            "Epoch 5/40\n",
            "6/6 [==============================] - 2s 405ms/step - loss: 0.6645 - accuracy: 0.6167 - val_loss: 0.6448 - val_accuracy: 0.8000\n",
            "Epoch 6/40\n",
            "6/6 [==============================] - 2s 399ms/step - loss: 0.6802 - accuracy: 0.5667 - val_loss: 0.6044 - val_accuracy: 0.7000\n",
            "Epoch 7/40\n",
            "6/6 [==============================] - 2s 394ms/step - loss: 0.6311 - accuracy: 0.6552 - val_loss: 0.7150 - val_accuracy: 0.5000\n",
            "Epoch 8/40\n",
            "6/6 [==============================] - 2s 403ms/step - loss: 0.6015 - accuracy: 0.6897 - val_loss: 0.6102 - val_accuracy: 0.7000\n",
            "Epoch 9/40\n",
            "6/6 [==============================] - 2s 404ms/step - loss: 0.6629 - accuracy: 0.6167 - val_loss: 0.6379 - val_accuracy: 0.7000\n",
            "Epoch 10/40\n",
            "6/6 [==============================] - 2s 401ms/step - loss: 0.5163 - accuracy: 0.7333 - val_loss: 0.5769 - val_accuracy: 0.7000\n",
            "Epoch 11/40\n",
            "6/6 [==============================] - 2s 406ms/step - loss: 0.5150 - accuracy: 0.7833 - val_loss: 0.6731 - val_accuracy: 0.7000\n",
            "Epoch 12/40\n",
            "6/6 [==============================] - 2s 394ms/step - loss: 0.5753 - accuracy: 0.7586 - val_loss: 0.9580 - val_accuracy: 0.5000\n",
            "Epoch 13/40\n",
            "6/6 [==============================] - 2s 407ms/step - loss: 0.5507 - accuracy: 0.6897 - val_loss: 0.5921 - val_accuracy: 0.8000\n",
            "Epoch 14/40\n",
            "6/6 [==============================] - 2s 400ms/step - loss: 0.4698 - accuracy: 0.8333 - val_loss: 0.5068 - val_accuracy: 0.7000\n",
            "Epoch 15/40\n",
            "6/6 [==============================] - 2s 403ms/step - loss: 0.5099 - accuracy: 0.8103 - val_loss: 1.1628 - val_accuracy: 0.6000\n",
            "Epoch 16/40\n",
            "6/6 [==============================] - 2s 404ms/step - loss: 0.5495 - accuracy: 0.7667 - val_loss: 0.5032 - val_accuracy: 0.6000\n",
            "Epoch 17/40\n",
            "6/6 [==============================] - 2s 389ms/step - loss: 0.6297 - accuracy: 0.7414 - val_loss: 0.9265 - val_accuracy: 0.6000\n",
            "Epoch 18/40\n",
            "6/6 [==============================] - 2s 388ms/step - loss: 0.4841 - accuracy: 0.8103 - val_loss: 0.8578 - val_accuracy: 0.6000\n",
            "Epoch 19/40\n",
            "6/6 [==============================] - 3s 407ms/step - loss: 0.5027 - accuracy: 0.7333 - val_loss: 0.9007 - val_accuracy: 0.6000\n",
            "Epoch 20/40\n",
            "6/6 [==============================] - 2s 393ms/step - loss: 0.5558 - accuracy: 0.7241 - val_loss: 0.4200 - val_accuracy: 0.8000\n",
            "Epoch 21/40\n",
            "6/6 [==============================] - 2s 404ms/step - loss: 0.4671 - accuracy: 0.8276 - val_loss: 0.6607 - val_accuracy: 0.6000\n",
            "Epoch 22/40\n",
            "6/6 [==============================] - 2s 394ms/step - loss: 0.5450 - accuracy: 0.7414 - val_loss: 0.5869 - val_accuracy: 0.7000\n",
            "Epoch 23/40\n",
            "6/6 [==============================] - 2s 389ms/step - loss: 0.3983 - accuracy: 0.7759 - val_loss: 0.6010 - val_accuracy: 0.6000\n",
            "Epoch 24/40\n",
            "6/6 [==============================] - 2s 393ms/step - loss: 0.5151 - accuracy: 0.7414 - val_loss: 0.7133 - val_accuracy: 0.6000\n",
            "Epoch 25/40\n",
            "6/6 [==============================] - 2s 411ms/step - loss: 0.4776 - accuracy: 0.7931 - val_loss: 0.4547 - val_accuracy: 0.7000\n",
            "Epoch 26/40\n",
            "6/6 [==============================] - 2s 403ms/step - loss: 0.4819 - accuracy: 0.7759 - val_loss: 0.5479 - val_accuracy: 0.6000\n",
            "Epoch 27/40\n",
            "6/6 [==============================] - 2s 408ms/step - loss: 0.4642 - accuracy: 0.7833 - val_loss: 0.4745 - val_accuracy: 0.7000\n",
            "Epoch 28/40\n",
            "6/6 [==============================] - 2s 404ms/step - loss: 0.4542 - accuracy: 0.8167 - val_loss: 0.7973 - val_accuracy: 0.7000\n",
            "Epoch 29/40\n",
            "6/6 [==============================] - 2s 403ms/step - loss: 0.4768 - accuracy: 0.8448 - val_loss: 0.5937 - val_accuracy: 0.8000\n",
            "Epoch 30/40\n",
            "6/6 [==============================] - 2s 401ms/step - loss: 0.4799 - accuracy: 0.7500 - val_loss: 0.4120 - val_accuracy: 0.7000\n",
            "Epoch 31/40\n",
            "6/6 [==============================] - 2s 404ms/step - loss: 0.3844 - accuracy: 0.8000 - val_loss: 0.7354 - val_accuracy: 0.7000\n",
            "Epoch 32/40\n",
            "6/6 [==============================] - 2s 392ms/step - loss: 0.5307 - accuracy: 0.7069 - val_loss: 0.4657 - val_accuracy: 0.8000\n",
            "Epoch 33/40\n",
            "6/6 [==============================] - 2s 385ms/step - loss: 0.4078 - accuracy: 0.8621 - val_loss: 0.9004 - val_accuracy: 0.5000\n",
            "Epoch 34/40\n",
            "6/6 [==============================] - 2s 384ms/step - loss: 0.5362 - accuracy: 0.7759 - val_loss: 0.8719 - val_accuracy: 0.6000\n",
            "Epoch 35/40\n",
            "6/6 [==============================] - 2s 390ms/step - loss: 0.4951 - accuracy: 0.7414 - val_loss: 0.7106 - val_accuracy: 0.6000\n",
            "Epoch 36/40\n",
            "6/6 [==============================] - 2s 391ms/step - loss: 0.4502 - accuracy: 0.8621 - val_loss: 0.4668 - val_accuracy: 0.9000\n",
            "Epoch 37/40\n",
            "6/6 [==============================] - 2s 401ms/step - loss: 0.4745 - accuracy: 0.7667 - val_loss: 0.4925 - val_accuracy: 0.7000\n",
            "Epoch 38/40\n",
            "6/6 [==============================] - 2s 405ms/step - loss: 0.4504 - accuracy: 0.8621 - val_loss: 0.4155 - val_accuracy: 0.9000\n",
            "Epoch 39/40\n",
            "6/6 [==============================] - 2s 390ms/step - loss: 0.2887 - accuracy: 0.8966 - val_loss: 0.3627 - val_accuracy: 0.8000\n",
            "Epoch 40/40\n",
            "6/6 [==============================] - 2s 403ms/step - loss: 0.4561 - accuracy: 0.8103 - val_loss: 0.9748 - val_accuracy: 0.6000\n"
          ]
        }
      ]
    },
    {
      "cell_type": "code",
      "source": [
        "acc= history.history['accuracy']\n",
        "val_acc=history.history['val_accuracy']\n",
        "loss=history.history['loss']\n",
        "val_loss=history.history['val_loss']\n",
        "\n",
        "epochs_range=range(len(acc))\n",
        "\n",
        "plt.figure(figsize=(16,8))\n",
        "plt.subplot(1,2,1)\n",
        "plt.plot(epochs_range, acc,'r', label= 'Training Accuracy')\n",
        "plt.plot(epochs_range, val_acc,'b', label= 'Validation Accuracy')\n",
        "plt.legend(loc='lower right')\n",
        "plt.title('Training & validation Accuracy')\n",
        "\n",
        "\n",
        "plt.subplot(1,2,2)\n",
        "plt.plot(epochs_range, loss,'r', label='Training loss')\n",
        "plt.plot(epochs_range, val_loss,'b', label='Validation loss')\n",
        "plt.legend(loc='lower right')\n",
        "plt.title('Training & validation Loss')\n",
        "\n",
        "plt.show()"
      ],
      "metadata": {
        "colab": {
          "base_uri": "https://localhost:8080/",
          "height": 385
        },
        "id": "XqF4cKB5bB-7",
        "outputId": "750e97f1-6041-4b12-fbb0-eb32217f6530"
      },
      "execution_count": 30,
      "outputs": [
        {
          "output_type": "display_data",
          "data": {
            "image/png": "[encoded data removed]",
            "text/plain": [
              "<Figure size 1152x576 with 2 Axes>"
            ]
          },
          "metadata": {
            "needs_background": "light"
          }
        }
      ]
    },
    {
      "cell_type": "markdown",
      "source": [
        "##Prediksi"
      ],
      "metadata": {
        "id": "NDsHkSXIqpSS"
      }
    },
    {
      "cell_type": "code",
      "execution_count": 31,
      "metadata": {
        "id": "eER84bzl3N68",
        "colab": {
          "resources": {
            "http://localhost:8080/nbextensions/google.colab/files.js": {
              "data": "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",
              "ok": true,
              "headers": [
                [
                  "content-type",
                  "application/javascript"
                ]
              ],
              "status": 200,
              "status_text": ""
            }
          },
          "base_uri": "https://localhost:8080/",
          "height": 342
        },
        "outputId": "d214cc02-c838-49e2-8f94-e78fe4fe17cd"
      },
      "outputs": [
        {
          "output_type": "display_data",
          "data": {
            "text/html": [
              "\n",
              "     <input type=\"file\" id=\"files-1e58cd47-08a6-49cb-8d3b-3044a6f6096c\" name=\"files[]\" multiple disabled\n",
              "        style=\"border:none\" />\n",
              "     <output id=\"result-1e58cd47-08a6-49cb-8d3b-3044a6f6096c\">\n",
              "      Upload widget is only available when the cell has been executed in the\n",
              "      current browser session. Please rerun this cell to enable.\n",
              "      </output>\n",
              "      <script src=\"/nbextensions/google.colab/files.js\"></script> "
            ],
            "text/plain": [
              "<IPython.core.display.HTML object>"
            ]
          },
          "metadata": {}
        },
        {
          "output_type": "stream",
          "name": "stdout",
          "text": [
            "Saving TP_ (1).jpg to TP_ (1).jpg\n",
            "gambar ini adalah tas_pria dengan akurasi 73.105860 % \n"
          ]
        },
        {
          "output_type": "display_data",
          "data": {
            "image/png": "[encoded data removed]",
            "text/plain": [
              "<Figure size 432x288 with 1 Axes>"
            ]
          },
          "metadata": {
            "needs_background": "light"
          }
        }
      ],
      "source": [
        "\n",
        "\n",
        "\n",
        "#upload gambar dari direktori local dan menyimpannya di drive\n",
        "uploaded=files.upload()  \n",
        "for fn in uploaded.keys():\n",
        "  path=fn\n",
        "  img=image.load_img(path, target_size=(IMG_WIDTH,IMG_HEIGHT))\n",
        "  imgplot=plt.imshow(img)\n",
        "  x=image.img_to_array(img)\n",
        "  x=np.expand_dims(x,axis=1)\n",
        "\n",
        "img_array = keras.preprocessing.image.img_to_array(img)\n",
        "img_array= tf.expand_dims(img_array,0)\n",
        "\n",
        "#prediksi gambar\n",
        "#class_names=os.listdir(train_dir)\n",
        "predictions = model.predict(img_array)\n",
        "score = tf.nn.softmax(predictions[0])\n",
        "\n",
        "print (\n",
        "    'gambar ini adalah {} dengan akurasi {:2f} % '\n",
        "    .format(class_names[np.argmax(score)],100*np.max(score))\n",
        ")  "
      ]
    },
    {
      "cell_type": "markdown",
      "source": [
        "##Save model"
      ],
      "metadata": {
        "id": "1gR7Z5Mc_HpX"
      }
    },
    {
      "cell_type": "code",
      "source": [
        "model.save('/content/model.h5')"
      ],
      "metadata": {
        "id": "BCpkM2dkFWln"
      },
      "execution_count": 32,
      "outputs": []
    },
    {
      "cell_type": "code",
      "source": [
        "model.save('./test_model',save_format='tf')"
      ],
      "metadata": {
        "colab": {
          "base_uri": "https://localhost:8080/"
        },
        "id": "IO4-nTnglJJj",
        "outputId": "7104dc7e-e32f-4d93-a8db-c29e9fe95cd6"
      },
      "execution_count": 33,
      "outputs": [
        {
          "output_type": "stream",
          "name": "stdout",
          "text": [
            "INFO:tensorflow:Assets written to: ./test_model/assets\n"
          ]
        }
      ]
    }
  ],
  "metadata": {
    "accelerator": "GPU",
    "colab": {
      "collapsed_sections": [],
      "name": "Final Project.ipynb",
      "provenance": []
    },
    "kernelspec": {
      "display_name": "Python 3",
      "name": "python3"
    },
    "language_info": {
      "name": "python"
    }
  },
  "nbformat": 4,
  "nbformat_minor": 0
}